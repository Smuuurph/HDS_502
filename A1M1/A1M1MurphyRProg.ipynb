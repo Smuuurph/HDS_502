{
 "cells": [
  {
   "metadata": {},
   "cell_type": "markdown",
   "source": [
    "#### Variable Description cheat sheet\n",
    "\n",
    "Gender: None\n",
    "\n",
    "Age: None\n",
    "\n",
    "Height: None\n",
    "\n",
    "Weight: None\n",
    "\n",
    "family_history_with_overweight: Has a family member suffered or suffers from overweight?\n",
    "\n",
    "FAVC: Do you eat high caloric food frequently?\n",
    "\n",
    "FCVC: Do you usually eat vegetables in your meals?\n",
    "\n",
    "NCP: How many main meals do you have daily?\n",
    "\n",
    "CAEC: Do you eat any food between meals?\n",
    "\n",
    "SMOKE: Do you smoke?\n",
    "\n",
    "CH2O: How much water do you drink daily?\n",
    "\n",
    "SCC: Do you monitor the calories you eat daily?\n",
    "\n",
    "FAF: How often do you have physical activity?\n",
    "\n",
    "TUE: How much time do you use technological devices such as cell phone, videogames, television computer and others?\"\n",
    "\n",
    "CALC: How often do you drink alcohol?\n",
    "\n",
    "MTRANS: Which transportation do you usually use?\n",
    "\n",
    "NObeyesdad: Obesity level\n",
    "\n"
   ],
   "id": "71a3473932f4ad7b"
  },
  {
   "metadata": {},
   "cell_type": "markdown",
   "source": "#### Load The data",
   "id": "dbd79ba3ccbafb09"
  },
  {
   "cell_type": "code",
   "id": "initial_id",
   "metadata": {
    "collapsed": true,
    "ExecuteTime": {
     "end_time": "2024-06-30T23:04:38.236198Z",
     "start_time": "2024-06-30T23:04:38.233123Z"
    }
   },
   "source": [
    "import pandas as pd\n",
    "# df = pd.read_csv(\"ObesityDataSet_raw_and_data_sinthetic.csv\")\n"
   ],
   "outputs": [],
   "execution_count": 1
  },
  {
   "metadata": {
    "ExecuteTime": {
     "end_time": "2024-06-30T23:04:40.349517Z",
     "start_time": "2024-06-30T23:04:38.238195Z"
    }
   },
   "cell_type": "code",
   "source": [
    "from uci_data import variables, df\n",
    "df[\"BMI\"] = df[\"Weight\"] / df[\"Height\"]\n",
    "\n",
    "continuous_vars = variables[(variables[\"type\"] == \"Continuous\") |\n",
    "                            (variables[\"type\"] == \"Integer\")][\"name\"].to_list() + [\"BMI\"]\n",
    "\n",
    "\n",
    "categorical_vars = variables[(variables[\"type\"] == \"Categorical\") |\n",
    "                            (variables[\"type\"] == \"Binary\")][\"name\"].to_list()\n",
    "\n",
    "\n",
    "#A few of the NCP values (number of meals per day) are long floats which doesnt make sence\n",
    "#I rounded them and will treat as categorical vars since there are only 4 values\n",
    "df[\"NCP\"] = df[\"NCP\"].astype(int).round()\n",
    "continuous_vars.remove(\"NCP\")\n",
    "categorical_vars.append(\"NCP\")\n",
    "\n",
    "variables[[\"name\",\"description\"]]\n"
   ],
   "id": "340a4d09ae922ab5",
   "outputs": [
    {
     "data": {
      "text/plain": [
       "                              name  \\\n",
       "0                           Gender   \n",
       "1                              Age   \n",
       "2                           Height   \n",
       "3                           Weight   \n",
       "4   family_history_with_overweight   \n",
       "5                             FAVC   \n",
       "6                             FCVC   \n",
       "7                              NCP   \n",
       "8                             CAEC   \n",
       "9                            SMOKE   \n",
       "10                            CH2O   \n",
       "11                             SCC   \n",
       "12                             FAF   \n",
       "13                             TUE   \n",
       "14                            CALC   \n",
       "15                          MTRANS   \n",
       "16                      NObeyesdad   \n",
       "\n",
       "                                          description  \n",
       "0                                                None  \n",
       "1                                                None  \n",
       "2                                                None  \n",
       "3                                                None  \n",
       "4   Has a family member suffered or suffers from o...  \n",
       "5            Do you eat high caloric food frequently?  \n",
       "6        Do you usually eat vegetables in your meals?  \n",
       "7              How many main meals do you have daily?  \n",
       "8                  Do you eat any food between meals?  \n",
       "9                                       Do you smoke?  \n",
       "10                 How much water do you drink daily?  \n",
       "11         Do you monitor the calories you eat daily?  \n",
       "12           How often do you have physical activity?  \n",
       "13  How much time do you use technological devices...  \n",
       "14                    How often do you drink alcohol?  \n",
       "15           Which transportation do you usually use?  \n",
       "16                                      Obesity level  "
      ],
      "text/html": [
       "<div>\n",
       "<style scoped>\n",
       "    .dataframe tbody tr th:only-of-type {\n",
       "        vertical-align: middle;\n",
       "    }\n",
       "\n",
       "    .dataframe tbody tr th {\n",
       "        vertical-align: top;\n",
       "    }\n",
       "\n",
       "    .dataframe thead th {\n",
       "        text-align: right;\n",
       "    }\n",
       "</style>\n",
       "<table border=\"1\" class=\"dataframe\">\n",
       "  <thead>\n",
       "    <tr style=\"text-align: right;\">\n",
       "      <th></th>\n",
       "      <th>name</th>\n",
       "      <th>description</th>\n",
       "    </tr>\n",
       "  </thead>\n",
       "  <tbody>\n",
       "    <tr>\n",
       "      <th>0</th>\n",
       "      <td>Gender</td>\n",
       "      <td>None</td>\n",
       "    </tr>\n",
       "    <tr>\n",
       "      <th>1</th>\n",
       "      <td>Age</td>\n",
       "      <td>None</td>\n",
       "    </tr>\n",
       "    <tr>\n",
       "      <th>2</th>\n",
       "      <td>Height</td>\n",
       "      <td>None</td>\n",
       "    </tr>\n",
       "    <tr>\n",
       "      <th>3</th>\n",
       "      <td>Weight</td>\n",
       "      <td>None</td>\n",
       "    </tr>\n",
       "    <tr>\n",
       "      <th>4</th>\n",
       "      <td>family_history_with_overweight</td>\n",
       "      <td>Has a family member suffered or suffers from o...</td>\n",
       "    </tr>\n",
       "    <tr>\n",
       "      <th>5</th>\n",
       "      <td>FAVC</td>\n",
       "      <td>Do you eat high caloric food frequently?</td>\n",
       "    </tr>\n",
       "    <tr>\n",
       "      <th>6</th>\n",
       "      <td>FCVC</td>\n",
       "      <td>Do you usually eat vegetables in your meals?</td>\n",
       "    </tr>\n",
       "    <tr>\n",
       "      <th>7</th>\n",
       "      <td>NCP</td>\n",
       "      <td>How many main meals do you have daily?</td>\n",
       "    </tr>\n",
       "    <tr>\n",
       "      <th>8</th>\n",
       "      <td>CAEC</td>\n",
       "      <td>Do you eat any food between meals?</td>\n",
       "    </tr>\n",
       "    <tr>\n",
       "      <th>9</th>\n",
       "      <td>SMOKE</td>\n",
       "      <td>Do you smoke?</td>\n",
       "    </tr>\n",
       "    <tr>\n",
       "      <th>10</th>\n",
       "      <td>CH2O</td>\n",
       "      <td>How much water do you drink daily?</td>\n",
       "    </tr>\n",
       "    <tr>\n",
       "      <th>11</th>\n",
       "      <td>SCC</td>\n",
       "      <td>Do you monitor the calories you eat daily?</td>\n",
       "    </tr>\n",
       "    <tr>\n",
       "      <th>12</th>\n",
       "      <td>FAF</td>\n",
       "      <td>How often do you have physical activity?</td>\n",
       "    </tr>\n",
       "    <tr>\n",
       "      <th>13</th>\n",
       "      <td>TUE</td>\n",
       "      <td>How much time do you use technological devices...</td>\n",
       "    </tr>\n",
       "    <tr>\n",
       "      <th>14</th>\n",
       "      <td>CALC</td>\n",
       "      <td>How often do you drink alcohol?</td>\n",
       "    </tr>\n",
       "    <tr>\n",
       "      <th>15</th>\n",
       "      <td>MTRANS</td>\n",
       "      <td>Which transportation do you usually use?</td>\n",
       "    </tr>\n",
       "    <tr>\n",
       "      <th>16</th>\n",
       "      <td>NObeyesdad</td>\n",
       "      <td>Obesity level</td>\n",
       "    </tr>\n",
       "  </tbody>\n",
       "</table>\n",
       "</div>"
      ]
     },
     "execution_count": 2,
     "metadata": {},
     "output_type": "execute_result"
    }
   ],
   "execution_count": 2
  },
  {
   "metadata": {},
   "cell_type": "markdown",
   "source": "#### Describe the continuous variables distribution",
   "id": "5c1415fbbe82492f"
  },
  {
   "metadata": {
    "ExecuteTime": {
     "end_time": "2024-06-30T23:04:40.370787Z",
     "start_time": "2024-06-30T23:04:40.350517Z"
    }
   },
   "cell_type": "code",
   "source": "df[continuous_vars].describe()",
   "id": "6c5b9e9652617a08",
   "outputs": [
    {
     "data": {
      "text/plain": [
       "               Age       Height       Weight         FCVC         CH2O  \\\n",
       "count  2111.000000  2111.000000  2111.000000  2111.000000  2111.000000   \n",
       "mean     24.312600     1.701677    86.586058     2.419043     2.008011   \n",
       "std       6.345968     0.093305    26.191172     0.533927     0.612953   \n",
       "min      14.000000     1.450000    39.000000     1.000000     1.000000   \n",
       "25%      19.947192     1.630000    65.473343     2.000000     1.584812   \n",
       "50%      22.777890     1.700499    83.000000     2.385502     2.000000   \n",
       "75%      26.000000     1.768464   107.430682     3.000000     2.477420   \n",
       "max      61.000000     1.980000   173.000000     3.000000     3.000000   \n",
       "\n",
       "               FAF          TUE          BMI  \n",
       "count  2111.000000  2111.000000  2111.000000  \n",
       "mean      1.010298     0.657866    50.638549  \n",
       "std       0.850592     0.608927    14.265599  \n",
       "min       0.000000     0.000000    23.788477  \n",
       "25%       0.124505     0.000000    40.469309  \n",
       "50%       1.000000     0.625350    49.376062  \n",
       "75%       1.666678     1.000000    63.496039  \n",
       "max       3.000000     2.000000    92.513369  "
      ],
      "text/html": [
       "<div>\n",
       "<style scoped>\n",
       "    .dataframe tbody tr th:only-of-type {\n",
       "        vertical-align: middle;\n",
       "    }\n",
       "\n",
       "    .dataframe tbody tr th {\n",
       "        vertical-align: top;\n",
       "    }\n",
       "\n",
       "    .dataframe thead th {\n",
       "        text-align: right;\n",
       "    }\n",
       "</style>\n",
       "<table border=\"1\" class=\"dataframe\">\n",
       "  <thead>\n",
       "    <tr style=\"text-align: right;\">\n",
       "      <th></th>\n",
       "      <th>Age</th>\n",
       "      <th>Height</th>\n",
       "      <th>Weight</th>\n",
       "      <th>FCVC</th>\n",
       "      <th>CH2O</th>\n",
       "      <th>FAF</th>\n",
       "      <th>TUE</th>\n",
       "      <th>BMI</th>\n",
       "    </tr>\n",
       "  </thead>\n",
       "  <tbody>\n",
       "    <tr>\n",
       "      <th>count</th>\n",
       "      <td>2111.000000</td>\n",
       "      <td>2111.000000</td>\n",
       "      <td>2111.000000</td>\n",
       "      <td>2111.000000</td>\n",
       "      <td>2111.000000</td>\n",
       "      <td>2111.000000</td>\n",
       "      <td>2111.000000</td>\n",
       "      <td>2111.000000</td>\n",
       "    </tr>\n",
       "    <tr>\n",
       "      <th>mean</th>\n",
       "      <td>24.312600</td>\n",
       "      <td>1.701677</td>\n",
       "      <td>86.586058</td>\n",
       "      <td>2.419043</td>\n",
       "      <td>2.008011</td>\n",
       "      <td>1.010298</td>\n",
       "      <td>0.657866</td>\n",
       "      <td>50.638549</td>\n",
       "    </tr>\n",
       "    <tr>\n",
       "      <th>std</th>\n",
       "      <td>6.345968</td>\n",
       "      <td>0.093305</td>\n",
       "      <td>26.191172</td>\n",
       "      <td>0.533927</td>\n",
       "      <td>0.612953</td>\n",
       "      <td>0.850592</td>\n",
       "      <td>0.608927</td>\n",
       "      <td>14.265599</td>\n",
       "    </tr>\n",
       "    <tr>\n",
       "      <th>min</th>\n",
       "      <td>14.000000</td>\n",
       "      <td>1.450000</td>\n",
       "      <td>39.000000</td>\n",
       "      <td>1.000000</td>\n",
       "      <td>1.000000</td>\n",
       "      <td>0.000000</td>\n",
       "      <td>0.000000</td>\n",
       "      <td>23.788477</td>\n",
       "    </tr>\n",
       "    <tr>\n",
       "      <th>25%</th>\n",
       "      <td>19.947192</td>\n",
       "      <td>1.630000</td>\n",
       "      <td>65.473343</td>\n",
       "      <td>2.000000</td>\n",
       "      <td>1.584812</td>\n",
       "      <td>0.124505</td>\n",
       "      <td>0.000000</td>\n",
       "      <td>40.469309</td>\n",
       "    </tr>\n",
       "    <tr>\n",
       "      <th>50%</th>\n",
       "      <td>22.777890</td>\n",
       "      <td>1.700499</td>\n",
       "      <td>83.000000</td>\n",
       "      <td>2.385502</td>\n",
       "      <td>2.000000</td>\n",
       "      <td>1.000000</td>\n",
       "      <td>0.625350</td>\n",
       "      <td>49.376062</td>\n",
       "    </tr>\n",
       "    <tr>\n",
       "      <th>75%</th>\n",
       "      <td>26.000000</td>\n",
       "      <td>1.768464</td>\n",
       "      <td>107.430682</td>\n",
       "      <td>3.000000</td>\n",
       "      <td>2.477420</td>\n",
       "      <td>1.666678</td>\n",
       "      <td>1.000000</td>\n",
       "      <td>63.496039</td>\n",
       "    </tr>\n",
       "    <tr>\n",
       "      <th>max</th>\n",
       "      <td>61.000000</td>\n",
       "      <td>1.980000</td>\n",
       "      <td>173.000000</td>\n",
       "      <td>3.000000</td>\n",
       "      <td>3.000000</td>\n",
       "      <td>3.000000</td>\n",
       "      <td>2.000000</td>\n",
       "      <td>92.513369</td>\n",
       "    </tr>\n",
       "  </tbody>\n",
       "</table>\n",
       "</div>"
      ]
     },
     "execution_count": 3,
     "metadata": {},
     "output_type": "execute_result"
    }
   ],
   "execution_count": 3
  },
  {
   "metadata": {},
   "cell_type": "markdown",
   "source": "#### Count the frequency of categorical varaibles",
   "id": "946c9ee51b7559e8"
  },
  {
   "metadata": {
    "ExecuteTime": {
     "end_time": "2024-06-30T23:04:40.386232Z",
     "start_time": "2024-06-30T23:04:40.371733Z"
    }
   },
   "cell_type": "code",
   "source": [
    "from pprint import pprint\n",
    "cts = df.value_counts()\n",
    "count_dict = {}\n",
    "for v in categorical_vars:\n",
    "    count_dict[v] = df[v].value_counts().to_dict() \n",
    "\n",
    "pprint(count_dict)"
   ],
   "id": "4430412fe8dd1837",
   "outputs": [
    {
     "name": "stdout",
     "output_type": "stream",
     "text": [
      "{'CAEC': {'Always': 53, 'Frequently': 242, 'Sometimes': 1765, 'no': 51},\n",
      " 'CALC': {'Always': 1, 'Frequently': 70, 'Sometimes': 1401, 'no': 639},\n",
      " 'FAVC': {'no': 245, 'yes': 1866},\n",
      " 'Gender': {'Female': 1043, 'Male': 1068},\n",
      " 'MTRANS': {'Automobile': 457,\n",
      "            'Bike': 7,\n",
      "            'Motorbike': 11,\n",
      "            'Public_Transportation': 1580,\n",
      "            'Walking': 56},\n",
      " 'NCP': {1: 395, 2: 285, 3: 1362, 4: 69},\n",
      " 'NObeyesdad': {'Insufficient_Weight': 272,\n",
      "                'Normal_Weight': 287,\n",
      "                'Obesity_Type_I': 351,\n",
      "                'Obesity_Type_II': 297,\n",
      "                'Obesity_Type_III': 324,\n",
      "                'Overweight_Level_I': 290,\n",
      "                'Overweight_Level_II': 290},\n",
      " 'SCC': {'no': 2015, 'yes': 96},\n",
      " 'SMOKE': {'no': 2067, 'yes': 44},\n",
      " 'family_history_with_overweight': {'no': 385, 'yes': 1726}}\n"
     ]
    }
   ],
   "execution_count": 4
  },
  {
   "metadata": {},
   "cell_type": "markdown",
   "source": "#### continuous scatter plots",
   "id": "2578bf93e0a2c5ad"
  },
  {
   "metadata": {
    "ExecuteTime": {
     "end_time": "2024-06-30T23:04:43.861626Z",
     "start_time": "2024-06-30T23:04:40.387188Z"
    }
   },
   "cell_type": "code",
   "source": [
    "import seaborn as sns\n",
    "import matplotlib.pyplot as plt\n",
    "import sean_resources as sr\n",
    "\n",
    "# First plot: Continuous Data Correlations\n",
    "path = \"Plots/CorrelationX1.png\"\n",
    "main = \"Weight Gain Continuous Data Correlations\"\n",
    "\n",
    "# Create the pair plot\n",
    "g = sns.pairplot(df[continuous_vars])\n",
    "g.map_upper(sr.corrfunc)\n",
    "plt.suptitle(main, y=1, fontsize=16)\n",
    "plt.savefig(path)\n",
    "plt.show()"
   ],
   "id": "975cd9dfe702b59c",
   "outputs": [
    {
     "name": "stderr",
     "output_type": "stream",
     "text": [
      "\n",
      "KeyboardInterrupt\n",
      "\n"
     ]
    },
    {
     "name": "stdout",
     "output_type": "stream",
     "text": [
      "Error in callback <function _draw_all_if_interactive at 0x0000021808080180> (for post_execute), with arguments args (),kwargs {}:\n"
     ]
    },
    {
     "name": "stderr",
     "output_type": "stream",
     "text": [
      "\n",
      "KeyboardInterrupt\n",
      "\n"
     ]
    },
    {
     "name": "stdout",
     "output_type": "stream",
     "text": [
      "Error in callback <function flush_figures at 0x000002182232AA20> (for post_execute), with arguments args (),kwargs {}:\n"
     ]
    },
    {
     "name": "stderr",
     "output_type": "stream",
     "text": [
      "\n",
      "KeyboardInterrupt\n",
      "\n"
     ]
    }
   ],
   "execution_count": 5
  },
  {
   "metadata": {},
   "cell_type": "markdown",
   "source": [
    "#### Continuous correlations\n",
    "\n",
    "Correlations are a little hard to read in the previous code so I made a sepearte plot of numeric correlations."
   ],
   "id": "802fe92bd78529ae"
  },
  {
   "metadata": {
    "ExecuteTime": {
     "end_time": "2024-06-30T23:04:43.863622Z",
     "start_time": "2024-06-30T23:04:43.863622Z"
    }
   },
   "cell_type": "code",
   "source": [
    "corr_matrix = df[continuous_vars].corr()\n",
    "plt.figure(figsize=(10, 8))\n",
    "sns.heatmap(corr_matrix, annot=True, cmap='coolwarm', center=0)\n",
    "plt.title('Correlation Matrix')\n",
    "plt.savefig(\"Plots/CorrelationNumericX1.png\")\n",
    "plt.show()"
   ],
   "id": "14d60bedd30b228d",
   "outputs": [],
   "execution_count": null
  },
  {
   "metadata": {},
   "cell_type": "markdown",
   "source": "#### Categorical correlations",
   "id": "fc43852833043e37"
  },
  {
   "metadata": {
    "ExecuteTime": {
     "end_time": "2024-06-30T23:04:43.865618Z",
     "start_time": "2024-06-30T23:04:43.864619Z"
    }
   },
   "cell_type": "code",
   "source": [
    "import seaborn as sns\n",
    "import matplotlib.pyplot as plt\n",
    "import pandas as pd\n",
    "import itertools\n",
    "import math\n",
    "\n",
    "# Create pairs of categorical variables\n",
    "pairs = list(itertools.combinations(categorical_vars, 2))\n",
    "\n",
    "# Calculate the number of rows and columns needed for the grid\n",
    "num_pairs = len(pairs)\n",
    "cols = int(math.ceil(math.sqrt(num_pairs)))\n",
    "rows = int(math.ceil(num_pairs / cols))\n",
    "\n",
    "# Set up the matplotlib figure with adjusted size\n",
    "fig, axes = plt.subplots(rows, cols, figsize=(4*cols, 4*rows), sharex=False, sharey=False)\n",
    "\n",
    "# Flatten axes array for easy iteration\n",
    "axes = axes.flatten()\n",
    "\n",
    "# Iterate over pairs and plot\n",
    "for ax, (var1, var2) in zip(axes, pairs):\n",
    "    sns.countplot(data=df, x=var1, hue=var2, ax=ax)\n",
    "    ax.set_title(f'{var1} vs {var2}')\n",
    "    ax.legend(loc='upper right', bbox_to_anchor=(1.1, 1.05))\n",
    "\n",
    "# Remove any unused subplots\n",
    "for i in range(len(pairs), len(axes)):\n",
    "    fig.delaxes(axes[i])\n",
    "\n",
    "# Add a title for the whole figure\n",
    "fig.suptitle(\"Frequency of Categorical Variables Comparison\", fontsize=16)\n",
    "plt.subplots_adjust(top=0.95, hspace=0.4, wspace=0.4)\n",
    "plt.savefig(\"Plots/CorrelationX2.png\")\n",
    "\n",
    "plt.show()"
   ],
   "id": "447b7414862044e5",
   "outputs": [],
   "execution_count": null
  },
  {
   "metadata": {},
   "cell_type": "markdown",
   "source": "#### Interactions",
   "id": "7767e54486c4ed85"
  },
  {
   "metadata": {},
   "cell_type": "code",
   "source": [
    "df['MTRANS'] = df['MTRANS'].astype('category')\n",
    "\n",
    "# Create a box plot\n",
    "plt.figure(figsize=(12, 8))\n",
    "sns.boxplot(data=df, x='MTRANS', y='FAF')\n",
    "\n",
    "# Add title and labels\n",
    "plt.title('Box Plot of FAF by MTRANS')\n",
    "plt.xlabel('Mode of Transportation (MTRANS)')\n",
    "plt.ylabel('FAF (Continuous Variable)')\n",
    "plt.savefig(\"Plots/Box Plot of FAF by MTRANS.png\")"
   ],
   "id": "a54d73822c704053",
   "outputs": [],
   "execution_count": null
  },
  {
   "metadata": {},
   "cell_type": "markdown",
   "source": "#### Create the model",
   "id": "fc776fabbe61e05c"
  },
  {
   "metadata": {},
   "cell_type": "code",
   "source": [
    "from scipy import stats\n",
    "from statsmodels.formula.api import ols\n",
    "model = ols(\"BMI~(Gender + Age + FAVC + FCVC + CALC + SCC + FAF + CH2O + CAEC+ TUE)\",data=df).fit()\n",
    "m1 = model\n",
    "#yes: Gender, Age, FAVC, FCVC, CALC, SCC, FAF, CAEC, TUE\n",
    "\n",
    "vars_used = [\"Gender\", \"Age\", \"FAVC\", \"FCVC\", \"CALC\", \"SCC\", \"FAF\", \"CAEC\", \"TUE\"]\n",
    "#no: Height, Weight, NObeyesdad, family_history_with_overweight, smoke, NCP, MTRANS\n"
   ],
   "id": "9b844b380ebef18c",
   "outputs": [],
   "execution_count": null
  },
  {
   "metadata": {},
   "cell_type": "markdown",
   "source": "#### Hypothesis testing",
   "id": "ed2ba1e5719ff98f"
  },
  {
   "metadata": {},
   "cell_type": "code",
   "source": "stats.skew(m1.resid)",
   "id": "109cd5e8003b4e4",
   "outputs": [],
   "execution_count": null
  },
  {
   "metadata": {},
   "cell_type": "code",
   "source": "stats.kurtosis(m1.resid)",
   "id": "bf93c9602d2b3baf",
   "outputs": [],
   "execution_count": null
  },
  {
   "metadata": {},
   "cell_type": "code",
   "source": [
    "from statsmodels.stats.anova import anova_lm\n",
    "anova_lm(m1)"
   ],
   "id": "1d08c1e01db84d8c",
   "outputs": [],
   "execution_count": null
  },
  {
   "metadata": {},
   "cell_type": "code",
   "source": [
    "\n",
    "\n",
    "summary_df = pd.DataFrame({\n",
    "    'Coefficient': model.params,\n",
    "    't-value': model.tvalues,\n",
    "    'p-value': model.pvalues,\n",
    "})\n",
    "\n",
    "# summary_df\n",
    "m1.summary()"
   ],
   "id": "91b0833dd1a065bf",
   "outputs": [],
   "execution_count": null
  },
  {
   "metadata": {},
   "cell_type": "code",
   "source": [
    "import class_resources as cr\n",
    "\n",
    "cr.qq_plot(m1, \"Plots/QQPlot.png\")"
   ],
   "id": "abe4b521609e0e37",
   "outputs": [],
   "execution_count": null
  },
  {
   "metadata": {},
   "cell_type": "markdown",
   "source": "#### Check Residuals variance",
   "id": "3ffc1d6539430c4"
  },
  {
   "metadata": {},
   "cell_type": "code",
   "source": [
    "import matplotlib.pyplot as plt\n",
    "\n",
    "df_plot = pd.DataFrame({\"Predictions\": m1.fittedvalues,\n",
    "                        \"Residuals\": m1.resid})\n",
    "\n",
    "plt.figure(figsize=(10,6))\n",
    "sns.scatterplot(data=df_plot, x=\"Predictions\", y=\"Residuals\")\n",
    "plt.axhline(0, linestyle='--', color='red')\n",
    "plt.title('Assumptions: Residuals vs. Predicted', fontsize=14, ha='center')\n",
    "plt.xlabel('Predictions')\n",
    "plt.ylabel('Residuals')\n",
    "\n",
    "# Save the plot\n",
    "plt.savefig('Plots/ResVsPred.png')\n",
    "plt.show()\n"
   ],
   "id": "53dffba0a9a48c9d",
   "outputs": [],
   "execution_count": null
  },
  {
   "metadata": {},
   "cell_type": "code",
   "source": [
    "from statsmodels.stats.diagnostic import het_breuschpagan\n",
    "bp_test = het_breuschpagan(m1.resid, model.model.exog)\n",
    "bp_test_statistic = bp_test[0]\n",
    "bp_test_p_value = bp_test[1]\n",
    "bp_test_f_value = bp_test[2]\n",
    "bp_test_f_p_value = bp_test[3]\n",
    "\n",
    "print(\"bp_test_statistic: \", bp_test_statistic,\n",
    "        \"\\nbp_test_p_value: \", bp_test_p_value,\n",
    "        \"\\nbp_test_f_value: \", bp_test_f_value,\n",
    "        \"\\nbp_test_f_p_value: \", bp_test_f_p_value)\n"
   ],
   "id": "e6f145bad43b3048",
   "outputs": [],
   "execution_count": null
  },
  {
   "metadata": {},
   "cell_type": "markdown",
   "source": "#### Levene",
   "id": "88ab1b654693f01d"
  },
  {
   "metadata": {},
   "cell_type": "code",
   "source": [
    "from scipy.stats import levene\n",
    "\n",
    "stat, p_value = levene(*[group[\"BMI\"].values for name, group in df.groupby(\"FAF\")])\n",
    "\n",
    "print(f\"Levene's Test Statistic: {stat}\")\n",
    "print(f\"Levene's Test p-value: {p_value}\")\n",
    "\n",
    "# Create a box plot\n",
    "plt.figure(figsize=(10, 6))\n",
    "sns.boxplot(data=df, x='FAF', y='BMI')\n",
    "\n",
    "# Add title and labels\n",
    "plt.title('Box Plot of Weight by Cell')\n",
    "plt.xlabel('Cell')\n",
    "plt.ylabel('Weight')\n",
    "\n",
    "# Save the plot\n",
    "plt.savefig(\"Plots/HIVBP.png\")\n",
    "\n",
    "# Show the plot\n",
    "plt.show()"
   ],
   "id": "d438fcc740a371f9",
   "outputs": [],
   "execution_count": null
  },
  {
   "metadata": {},
   "cell_type": "code",
   "source": [
    "for i in vars_used:\n",
    "    stat, p_value = levene(*[group[\"BMI\"].values for name, group in df.groupby(i)])\n",
    "    print(f\"Levene's Test for: {i}\")\n",
    "    print(f\"Levene's Test Statistic: {stat}\")\n",
    "    print(f\"Levene's Test p-value: {p_value}\")\n",
    "    print(\"\\n\")\n"
   ],
   "id": "7fcf4d210b7b6128",
   "outputs": [],
   "execution_count": null
  },
  {
   "metadata": {},
   "cell_type": "code",
   "source": [
    "from statsmodels.stats.diagnostic import acorr_ljungbox\n",
    "\n",
    "# Ljung-Box test\n",
    "ljung_box_result = acorr_ljungbox(m1.resid, lags=[1], return_df=True)\n",
    "print(ljung_box_result)"
   ],
   "id": "5cfcab503a546d16",
   "outputs": [],
   "execution_count": null
  },
  {
   "metadata": {},
   "cell_type": "code",
   "source": [
    "import os #TODO\n",
    "\n",
    "# Simulate residuals (residuals from the fitted model)\n",
    "residuals = model.resid\n",
    "\n",
    "# Plot residuals vs fitted values\n",
    "ptype = \"ResVpred\"\n",
    "ver = \"version\"  # Define your version variable\n",
    "part = \"part\"    # Define your part variable\n",
    "mdl = \"model\"    # Define your model name\n",
    "loc = os.path.join(\"A1M1/Plots\", \"ResVBigBin.png\")\n",
    "\n",
    "plt.figure(figsize=(10, 6))\n",
    "sns.residplot(x=model.fittedvalues, y=residuals, lowess=True)\n",
    "plt.xlabel('Fitted values')\n",
    "plt.ylabel('Residuals')\n",
    "plt.title('Residuals vs Fitted values')\n",
    "plt.savefig(loc)\n"
   ],
   "id": "59855a620541491b",
   "outputs": [],
   "execution_count": null
  },
  {
   "metadata": {},
   "cell_type": "code",
   "source": [
    "from statsmodels.stats.multicomp import pairwise_tukeyhsd\n",
    "import statsmodels.api as sm\n",
    "\n",
    "aov_table = sm.stats.anova_lm(model, typ=2)\n",
    "print(aov_table)\n",
    "\n",
    "# Perform Tukey's HSD test for pairwise comparisons\n",
    "tukey = pairwise_tukeyhsd(endog=df['BMI'],\n",
    "                          groups=df['FAVC'].astype(str) + \" : \" + df['CAEC'].astype(str),\n",
    "                          alpha=0.05)\n",
    "\n",
    "# Print Tukey's HSD results\n",
    "print(tukey)\n",
    "\n",
    "# Plot and save the Tukey HSD results\n",
    "plt.figure(figsize=(10, 6))\n",
    "tukey.plot_simultaneous()\n",
    "plt.title('Tukey HSD Test for Pairwise Comparisons')\n",
    "plt.xlabel('Mean Difference')\n",
    "plt.grid(True)\n",
    "\n",
    "# Ensure the directory exists\n",
    "output_dir = \"A1M1/Plots\"\n",
    "if not os.path.exists(output_dir):\n",
    "    os.makedirs(output_dir)\n",
    "\n",
    "plt.savefig(os.path.join(output_dir, \"HIVPWC.png\"))"
   ],
   "id": "227a77580515c679",
   "outputs": [],
   "execution_count": null
  },
  {
   "metadata": {},
   "cell_type": "code",
   "source": [
    "m2 = ols(\"BMI~(Gender + Age + FAVC + FCVC + CALC + SCC + FAF + CH2O + CAEC + TUE + FAVC*CAEC)\", data=df).fit()\n",
    "\n",
    "# Summary of the model\n",
    "model_summary = m2.summary()\n",
    "print(model_summary)\n",
    "\n",
    "# Save the summary to a LaTeX file\n",
    "with open(\"A1M1/Tables/ModelSummaryAll.tex\", \"w\") as f:\n",
    "    f.write(model_summary.as_latex())"
   ],
   "id": "d2add0b2df8c2d01",
   "outputs": [],
   "execution_count": null
  },
  {
   "metadata": {},
   "cell_type": "markdown",
   "source": "#### Effect Size",
   "id": "e95f8dcc91af8e98"
  },
  {
   "metadata": {},
   "cell_type": "code",
   "source": [
    "import pingouin as pg\n",
    "\n",
    "# Calculate effect sizes\n",
    "\n",
    "# Prepare data for effect size calculation\n",
    "df['Gender'] = df['Gender'].astype('category').cat.codes\n",
    "df['FAVC'] = df['FAVC'].astype('category').cat.codes\n",
    "df['CALC'] = df['CALC'].astype('category').cat.codes\n",
    "df['SCC'] = df['SCC'].astype('category').cat.codes\n",
    "df['CAEC'] = df['CAEC'].astype('category').cat.codes\n",
    "\n",
    "# Create interaction term manually\n",
    "df['FAVC_CAEC'] = df['FAVC'] * df['CAEC']\n",
    "\n",
    "# List of predictor variables including interaction term\n",
    "predictors = ['Gender', 'Age', 'FAVC', 'FCVC', 'CALC', 'SCC', 'FAF', 'CH2O', 'CAEC', 'TUE', 'FAVC_CAEC']\n",
    "\n",
    "# Calculate effect sizes\n",
    "effect_sizes = pg.linear_regression(df[predictors], df['BMI'])\n",
    "print(effect_sizes)\n",
    "\n",
    "# Save the effect sizes to a LaTeX file\n",
    "with open(\"A1M1/Tables/EffectSize.tex\", \"w\") as f:\n",
    "    f.write(effect_sizes.to_latex())"
   ],
   "id": "4447099db1fa931a",
   "outputs": [],
   "execution_count": null
  },
  {
   "metadata": {},
   "cell_type": "code",
   "source": [
    "# Fit another model (for comparison)\n",
    "# Compare models using ANOVA\n",
    "anova_results = sm.stats.anova_lm(m1, m2)\n",
    "print(anova_results)\n",
    "\n",
    "# Save the ANOVA comparison to a LaTeX file\n",
    "with open(\"A1M1/Tables/ModelCompare.tex\", \"w\") as f:\n",
    "    f.write(anova_results.to_latex())"
   ],
   "id": "a33cc3706dca9ea0",
   "outputs": [],
   "execution_count": null
  },
  {
   "metadata": {},
   "cell_type": "code",
   "source": "",
   "id": "b3e00a19833e8863",
   "outputs": [],
   "execution_count": null
  },
  {
   "metadata": {},
   "cell_type": "code",
   "source": "",
   "id": "5292300e45f17437",
   "outputs": [],
   "execution_count": null
  }
 ],
 "metadata": {
  "kernelspec": {
   "display_name": "Python 3",
   "language": "python",
   "name": "python3"
  },
  "language_info": {
   "codemirror_mode": {
    "name": "ipython",
    "version": 2
   },
   "file_extension": ".py",
   "mimetype": "text/x-python",
   "name": "python",
   "nbconvert_exporter": "python",
   "pygments_lexer": "ipython2",
   "version": "2.7.6"
  }
 },
 "nbformat": 4,
 "nbformat_minor": 5
}
